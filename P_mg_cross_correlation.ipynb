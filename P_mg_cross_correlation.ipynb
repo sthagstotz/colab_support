{
  "nbformat": 4,
  "nbformat_minor": 0,
  "metadata": {
    "colab": {
      "name": "P_mg_cross_correlation.ipynb",
      "provenance": [],
      "include_colab_link": true
    },
    "kernelspec": {
      "name": "python3",
      "display_name": "Python 3"
    },
    "widgets": {
      "application/vnd.jupyter.widget-state+json": {
        "dcea9d5b04c84f67bb55a93c165de6cd": {
          "model_module": "@jupyter-widgets/controls",
          "model_name": "VBoxModel",
          "state": {
            "_view_name": "VBoxView",
            "_dom_classes": [
              "widget-interact"
            ],
            "_model_name": "VBoxModel",
            "_view_module": "@jupyter-widgets/controls",
            "_model_module_version": "1.5.0",
            "_view_count": null,
            "_view_module_version": "1.5.0",
            "box_style": "",
            "layout": "IPY_MODEL_16b291a9c2cf4899a22320c5a04f1380",
            "_model_module": "@jupyter-widgets/controls",
            "children": [
              "IPY_MODEL_cc373f5242814455afd8922e98583a36",
              "IPY_MODEL_3f2a3f8e3901427d9b9d661e1efdf363",
              "IPY_MODEL_e36c59c38262440f918253915c3761cf"
            ]
          }
        },
        "16b291a9c2cf4899a22320c5a04f1380": {
          "model_module": "@jupyter-widgets/base",
          "model_name": "LayoutModel",
          "state": {
            "_view_name": "LayoutView",
            "grid_template_rows": null,
            "right": null,
            "justify_content": null,
            "_view_module": "@jupyter-widgets/base",
            "overflow": null,
            "_model_module_version": "1.2.0",
            "_view_count": null,
            "flex_flow": null,
            "width": null,
            "min_width": null,
            "border": null,
            "align_items": null,
            "bottom": null,
            "_model_module": "@jupyter-widgets/base",
            "top": null,
            "grid_column": null,
            "overflow_y": null,
            "overflow_x": null,
            "grid_auto_flow": null,
            "grid_area": null,
            "grid_template_columns": null,
            "flex": null,
            "_model_name": "LayoutModel",
            "justify_items": null,
            "grid_row": null,
            "max_height": null,
            "align_content": null,
            "visibility": null,
            "align_self": null,
            "height": null,
            "min_height": null,
            "padding": null,
            "grid_auto_rows": null,
            "grid_gap": null,
            "max_width": null,
            "order": null,
            "_view_module_version": "1.2.0",
            "grid_template_areas": null,
            "object_position": null,
            "object_fit": null,
            "grid_auto_columns": null,
            "margin": null,
            "display": null,
            "left": null
          }
        },
        "cc373f5242814455afd8922e98583a36": {
          "model_module": "@jupyter-widgets/controls",
          "model_name": "FloatSliderModel",
          "state": {
            "_view_name": "FloatSliderView",
            "style": "IPY_MODEL_3bc4abf70431468e88d512fea70a7a72",
            "_dom_classes": [],
            "description": "bias",
            "step": 0.1,
            "_model_name": "FloatSliderModel",
            "orientation": "horizontal",
            "max": 5,
            "_view_module": "@jupyter-widgets/controls",
            "_model_module_version": "1.5.0",
            "value": 1.8,
            "_view_count": null,
            "disabled": false,
            "_view_module_version": "1.5.0",
            "min": 0,
            "continuous_update": true,
            "readout_format": ".2f",
            "description_tooltip": null,
            "readout": true,
            "_model_module": "@jupyter-widgets/controls",
            "layout": "IPY_MODEL_834050ce8d62427093173ccc01a6e28c"
          }
        },
        "3f2a3f8e3901427d9b9d661e1efdf363": {
          "model_module": "@jupyter-widgets/controls",
          "model_name": "IntSliderModel",
          "state": {
            "_view_name": "IntSliderView",
            "style": "IPY_MODEL_5c673d28a4d640c7bef4ad8cf6a98a89",
            "_dom_classes": [],
            "description": "shot noise",
            "step": 100,
            "_model_name": "IntSliderModel",
            "orientation": "horizontal",
            "max": 10000,
            "_view_module": "@jupyter-widgets/controls",
            "_model_module_version": "1.5.0",
            "value": 3900,
            "_view_count": null,
            "disabled": false,
            "_view_module_version": "1.5.0",
            "min": 100,
            "continuous_update": true,
            "readout_format": "d",
            "description_tooltip": null,
            "readout": true,
            "_model_module": "@jupyter-widgets/controls",
            "layout": "IPY_MODEL_ba07ec991ffd433abd6ac74778b4c7d6"
          }
        },
        "e36c59c38262440f918253915c3761cf": {
          "model_module": "@jupyter-widgets/output",
          "model_name": "OutputModel",
          "state": {
            "_view_name": "OutputView",
            "msg_id": "",
            "_dom_classes": [],
            "_model_name": "OutputModel",
            "outputs": [
              {
                "output_type": "display_data",
                "metadata": {
                  "tags": [],
                  "needs_background": "light"
                },
                "image/png": "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\n",
                "text/plain": "<Figure size 432x288 with 1 Axes>"
              }
            ],
            "_view_module": "@jupyter-widgets/output",
            "_model_module_version": "1.0.0",
            "_view_count": null,
            "_view_module_version": "1.0.0",
            "layout": "IPY_MODEL_05a886bf17e544e59eb869d56aa9433e",
            "_model_module": "@jupyter-widgets/output"
          }
        },
        "3bc4abf70431468e88d512fea70a7a72": {
          "model_module": "@jupyter-widgets/controls",
          "model_name": "SliderStyleModel",
          "state": {
            "_view_name": "StyleView",
            "handle_color": null,
            "_model_name": "SliderStyleModel",
            "description_width": "",
            "_view_module": "@jupyter-widgets/base",
            "_model_module_version": "1.5.0",
            "_view_count": null,
            "_view_module_version": "1.2.0",
            "_model_module": "@jupyter-widgets/controls"
          }
        },
        "834050ce8d62427093173ccc01a6e28c": {
          "model_module": "@jupyter-widgets/base",
          "model_name": "LayoutModel",
          "state": {
            "_view_name": "LayoutView",
            "grid_template_rows": null,
            "right": null,
            "justify_content": null,
            "_view_module": "@jupyter-widgets/base",
            "overflow": null,
            "_model_module_version": "1.2.0",
            "_view_count": null,
            "flex_flow": null,
            "width": null,
            "min_width": null,
            "border": null,
            "align_items": null,
            "bottom": null,
            "_model_module": "@jupyter-widgets/base",
            "top": null,
            "grid_column": null,
            "overflow_y": null,
            "overflow_x": null,
            "grid_auto_flow": null,
            "grid_area": null,
            "grid_template_columns": null,
            "flex": null,
            "_model_name": "LayoutModel",
            "justify_items": null,
            "grid_row": null,
            "max_height": null,
            "align_content": null,
            "visibility": null,
            "align_self": null,
            "height": null,
            "min_height": null,
            "padding": null,
            "grid_auto_rows": null,
            "grid_gap": null,
            "max_width": null,
            "order": null,
            "_view_module_version": "1.2.0",
            "grid_template_areas": null,
            "object_position": null,
            "object_fit": null,
            "grid_auto_columns": null,
            "margin": null,
            "display": null,
            "left": null
          }
        },
        "5c673d28a4d640c7bef4ad8cf6a98a89": {
          "model_module": "@jupyter-widgets/controls",
          "model_name": "SliderStyleModel",
          "state": {
            "_view_name": "StyleView",
            "handle_color": null,
            "_model_name": "SliderStyleModel",
            "description_width": "",
            "_view_module": "@jupyter-widgets/base",
            "_model_module_version": "1.5.0",
            "_view_count": null,
            "_view_module_version": "1.2.0",
            "_model_module": "@jupyter-widgets/controls"
          }
        },
        "ba07ec991ffd433abd6ac74778b4c7d6": {
          "model_module": "@jupyter-widgets/base",
          "model_name": "LayoutModel",
          "state": {
            "_view_name": "LayoutView",
            "grid_template_rows": null,
            "right": null,
            "justify_content": null,
            "_view_module": "@jupyter-widgets/base",
            "overflow": null,
            "_model_module_version": "1.2.0",
            "_view_count": null,
            "flex_flow": null,
            "width": null,
            "min_width": null,
            "border": null,
            "align_items": null,
            "bottom": null,
            "_model_module": "@jupyter-widgets/base",
            "top": null,
            "grid_column": null,
            "overflow_y": null,
            "overflow_x": null,
            "grid_auto_flow": null,
            "grid_area": null,
            "grid_template_columns": null,
            "flex": null,
            "_model_name": "LayoutModel",
            "justify_items": null,
            "grid_row": null,
            "max_height": null,
            "align_content": null,
            "visibility": null,
            "align_self": null,
            "height": null,
            "min_height": null,
            "padding": null,
            "grid_auto_rows": null,
            "grid_gap": null,
            "max_width": null,
            "order": null,
            "_view_module_version": "1.2.0",
            "grid_template_areas": null,
            "object_position": null,
            "object_fit": null,
            "grid_auto_columns": null,
            "margin": null,
            "display": null,
            "left": null
          }
        },
        "05a886bf17e544e59eb869d56aa9433e": {
          "model_module": "@jupyter-widgets/base",
          "model_name": "LayoutModel",
          "state": {
            "_view_name": "LayoutView",
            "grid_template_rows": null,
            "right": null,
            "justify_content": null,
            "_view_module": "@jupyter-widgets/base",
            "overflow": null,
            "_model_module_version": "1.2.0",
            "_view_count": null,
            "flex_flow": null,
            "width": null,
            "min_width": null,
            "border": null,
            "align_items": null,
            "bottom": null,
            "_model_module": "@jupyter-widgets/base",
            "top": null,
            "grid_column": null,
            "overflow_y": null,
            "overflow_x": null,
            "grid_auto_flow": null,
            "grid_area": null,
            "grid_template_columns": null,
            "flex": null,
            "_model_name": "LayoutModel",
            "justify_items": null,
            "grid_row": null,
            "max_height": null,
            "align_content": null,
            "visibility": null,
            "align_self": null,
            "height": null,
            "min_height": null,
            "padding": null,
            "grid_auto_rows": null,
            "grid_gap": null,
            "max_width": null,
            "order": null,
            "_view_module_version": "1.2.0",
            "grid_template_areas": null,
            "object_position": null,
            "object_fit": null,
            "grid_auto_columns": null,
            "margin": null,
            "display": null,
            "left": null
          }
        },
        "366b4ac0f1d24374b1672fc10466d8ae": {
          "model_module": "@jupyter-widgets/controls",
          "model_name": "VBoxModel",
          "state": {
            "_view_name": "VBoxView",
            "_dom_classes": [
              "widget-interact"
            ],
            "_model_name": "VBoxModel",
            "_view_module": "@jupyter-widgets/controls",
            "_model_module_version": "1.5.0",
            "_view_count": null,
            "_view_module_version": "1.5.0",
            "box_style": "",
            "layout": "IPY_MODEL_e737c5edbec847e086d0fced36ae07d0",
            "_model_module": "@jupyter-widgets/controls",
            "children": [
              "IPY_MODEL_d29740151d6b4686af72203db2890bd2",
              "IPY_MODEL_43fd112114da4ffebbd2edbcb7c640c4",
              "IPY_MODEL_9e6274f0552e4090b57b65969918c234"
            ]
          }
        },
        "e737c5edbec847e086d0fced36ae07d0": {
          "model_module": "@jupyter-widgets/base",
          "model_name": "LayoutModel",
          "state": {
            "_view_name": "LayoutView",
            "grid_template_rows": null,
            "right": null,
            "justify_content": null,
            "_view_module": "@jupyter-widgets/base",
            "overflow": null,
            "_model_module_version": "1.2.0",
            "_view_count": null,
            "flex_flow": null,
            "width": null,
            "min_width": null,
            "border": null,
            "align_items": null,
            "bottom": null,
            "_model_module": "@jupyter-widgets/base",
            "top": null,
            "grid_column": null,
            "overflow_y": null,
            "overflow_x": null,
            "grid_auto_flow": null,
            "grid_area": null,
            "grid_template_columns": null,
            "flex": null,
            "_model_name": "LayoutModel",
            "justify_items": null,
            "grid_row": null,
            "max_height": null,
            "align_content": null,
            "visibility": null,
            "align_self": null,
            "height": null,
            "min_height": null,
            "padding": null,
            "grid_auto_rows": null,
            "grid_gap": null,
            "max_width": null,
            "order": null,
            "_view_module_version": "1.2.0",
            "grid_template_areas": null,
            "object_position": null,
            "object_fit": null,
            "grid_auto_columns": null,
            "margin": null,
            "display": null,
            "left": null
          }
        },
        "d29740151d6b4686af72203db2890bd2": {
          "model_module": "@jupyter-widgets/controls",
          "model_name": "FloatSliderModel",
          "state": {
            "_view_name": "FloatSliderView",
            "style": "IPY_MODEL_24c18c2d8c9645b985adb552bd2d3218",
            "_dom_classes": [],
            "description": "bias",
            "step": 0.1,
            "_model_name": "FloatSliderModel",
            "orientation": "horizontal",
            "max": 5,
            "_view_module": "@jupyter-widgets/controls",
            "_model_module_version": "1.5.0",
            "value": 2.3,
            "_view_count": null,
            "disabled": false,
            "_view_module_version": "1.5.0",
            "min": 0,
            "continuous_update": true,
            "readout_format": ".2f",
            "description_tooltip": null,
            "readout": true,
            "_model_module": "@jupyter-widgets/controls",
            "layout": "IPY_MODEL_7cf9cab5c224410b8e2f01037542be1d"
          }
        },
        "43fd112114da4ffebbd2edbcb7c640c4": {
          "model_module": "@jupyter-widgets/controls",
          "model_name": "IntSliderModel",
          "state": {
            "_view_name": "IntSliderView",
            "style": "IPY_MODEL_1300f0583aab481faddc54c5f29097c0",
            "_dom_classes": [],
            "description": "shot noise",
            "step": 100,
            "_model_name": "IntSliderModel",
            "orientation": "horizontal",
            "max": 10000,
            "_view_module": "@jupyter-widgets/controls",
            "_model_module_version": "1.5.0",
            "value": 2700,
            "_view_count": null,
            "disabled": false,
            "_view_module_version": "1.5.0",
            "min": 100,
            "continuous_update": true,
            "readout_format": "d",
            "description_tooltip": null,
            "readout": true,
            "_model_module": "@jupyter-widgets/controls",
            "layout": "IPY_MODEL_738d818d5c874571af709d6f2f7c076a"
          }
        },
        "9e6274f0552e4090b57b65969918c234": {
          "model_module": "@jupyter-widgets/output",
          "model_name": "OutputModel",
          "state": {
            "_view_name": "OutputView",
            "msg_id": "",
            "_dom_classes": [],
            "_model_name": "OutputModel",
            "outputs": [
              {
                "output_type": "display_data",
                "metadata": {
                  "tags": [],
                  "needs_background": "light"
                },
                "image/png": "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\n",
                "text/plain": "<Figure size 432x288 with 1 Axes>"
              }
            ],
            "_view_module": "@jupyter-widgets/output",
            "_model_module_version": "1.0.0",
            "_view_count": null,
            "_view_module_version": "1.0.0",
            "layout": "IPY_MODEL_558a7ebd55b34dc2b11df7bd97cd230c",
            "_model_module": "@jupyter-widgets/output"
          }
        },
        "24c18c2d8c9645b985adb552bd2d3218": {
          "model_module": "@jupyter-widgets/controls",
          "model_name": "SliderStyleModel",
          "state": {
            "_view_name": "StyleView",
            "handle_color": null,
            "_model_name": "SliderStyleModel",
            "description_width": "",
            "_view_module": "@jupyter-widgets/base",
            "_model_module_version": "1.5.0",
            "_view_count": null,
            "_view_module_version": "1.2.0",
            "_model_module": "@jupyter-widgets/controls"
          }
        },
        "7cf9cab5c224410b8e2f01037542be1d": {
          "model_module": "@jupyter-widgets/base",
          "model_name": "LayoutModel",
          "state": {
            "_view_name": "LayoutView",
            "grid_template_rows": null,
            "right": null,
            "justify_content": null,
            "_view_module": "@jupyter-widgets/base",
            "overflow": null,
            "_model_module_version": "1.2.0",
            "_view_count": null,
            "flex_flow": null,
            "width": null,
            "min_width": null,
            "border": null,
            "align_items": null,
            "bottom": null,
            "_model_module": "@jupyter-widgets/base",
            "top": null,
            "grid_column": null,
            "overflow_y": null,
            "overflow_x": null,
            "grid_auto_flow": null,
            "grid_area": null,
            "grid_template_columns": null,
            "flex": null,
            "_model_name": "LayoutModel",
            "justify_items": null,
            "grid_row": null,
            "max_height": null,
            "align_content": null,
            "visibility": null,
            "align_self": null,
            "height": null,
            "min_height": null,
            "padding": null,
            "grid_auto_rows": null,
            "grid_gap": null,
            "max_width": null,
            "order": null,
            "_view_module_version": "1.2.0",
            "grid_template_areas": null,
            "object_position": null,
            "object_fit": null,
            "grid_auto_columns": null,
            "margin": null,
            "display": null,
            "left": null
          }
        },
        "1300f0583aab481faddc54c5f29097c0": {
          "model_module": "@jupyter-widgets/controls",
          "model_name": "SliderStyleModel",
          "state": {
            "_view_name": "StyleView",
            "handle_color": null,
            "_model_name": "SliderStyleModel",
            "description_width": "",
            "_view_module": "@jupyter-widgets/base",
            "_model_module_version": "1.5.0",
            "_view_count": null,
            "_view_module_version": "1.2.0",
            "_model_module": "@jupyter-widgets/controls"
          }
        },
        "738d818d5c874571af709d6f2f7c076a": {
          "model_module": "@jupyter-widgets/base",
          "model_name": "LayoutModel",
          "state": {
            "_view_name": "LayoutView",
            "grid_template_rows": null,
            "right": null,
            "justify_content": null,
            "_view_module": "@jupyter-widgets/base",
            "overflow": null,
            "_model_module_version": "1.2.0",
            "_view_count": null,
            "flex_flow": null,
            "width": null,
            "min_width": null,
            "border": null,
            "align_items": null,
            "bottom": null,
            "_model_module": "@jupyter-widgets/base",
            "top": null,
            "grid_column": null,
            "overflow_y": null,
            "overflow_x": null,
            "grid_auto_flow": null,
            "grid_area": null,
            "grid_template_columns": null,
            "flex": null,
            "_model_name": "LayoutModel",
            "justify_items": null,
            "grid_row": null,
            "max_height": null,
            "align_content": null,
            "visibility": null,
            "align_self": null,
            "height": null,
            "min_height": null,
            "padding": null,
            "grid_auto_rows": null,
            "grid_gap": null,
            "max_width": null,
            "order": null,
            "_view_module_version": "1.2.0",
            "grid_template_areas": null,
            "object_position": null,
            "object_fit": null,
            "grid_auto_columns": null,
            "margin": null,
            "display": null,
            "left": null
          }
        },
        "558a7ebd55b34dc2b11df7bd97cd230c": {
          "model_module": "@jupyter-widgets/base",
          "model_name": "LayoutModel",
          "state": {
            "_view_name": "LayoutView",
            "grid_template_rows": null,
            "right": null,
            "justify_content": null,
            "_view_module": "@jupyter-widgets/base",
            "overflow": null,
            "_model_module_version": "1.2.0",
            "_view_count": null,
            "flex_flow": null,
            "width": null,
            "min_width": null,
            "border": null,
            "align_items": null,
            "bottom": null,
            "_model_module": "@jupyter-widgets/base",
            "top": null,
            "grid_column": null,
            "overflow_y": null,
            "overflow_x": null,
            "grid_auto_flow": null,
            "grid_area": null,
            "grid_template_columns": null,
            "flex": null,
            "_model_name": "LayoutModel",
            "justify_items": null,
            "grid_row": null,
            "max_height": null,
            "align_content": null,
            "visibility": null,
            "align_self": null,
            "height": null,
            "min_height": null,
            "padding": null,
            "grid_auto_rows": null,
            "grid_gap": null,
            "max_width": null,
            "order": null,
            "_view_module_version": "1.2.0",
            "grid_template_areas": null,
            "object_position": null,
            "object_fit": null,
            "grid_auto_columns": null,
            "margin": null,
            "display": null,
            "left": null
          }
        }
      }
    }
  },
  "cells": [
    {
      "cell_type": "markdown",
      "metadata": {
        "id": "view-in-github",
        "colab_type": "text"
      },
      "source": [
        "<a href=\"https://colab.research.google.com/github/sthagstotz/colab_support/blob/master/P_mg_cross_correlation.ipynb\" target=\"_parent\"><img src=\"https://colab.research.google.com/assets/colab-badge.svg\" alt=\"Open In Colab\"/></a>"
      ]
    },
    {
      "cell_type": "code",
      "metadata": {
        "id": "48nms1wRPBVT",
        "colab_type": "code",
        "colab": {}
      },
      "source": [
        "from ipywidgets import interact, interactive, fixed, interact_manual\n",
        "import ipywidgets as widgets\n",
        "\n",
        "import requests\n",
        "\n",
        "import numpy as np\n",
        "import pylab as plt\n"
      ],
      "execution_count": 0,
      "outputs": []
    },
    {
      "cell_type": "markdown",
      "metadata": {
        "id": "JeV2-bxhQNdA",
        "colab_type": "text"
      },
      "source": [
        "Calculate the scale-dependent correlation coefficient between matter and galaxy power spectra\n",
        "\n",
        "$$ r(k)= \\frac{P_{mg}}{\\sqrt{P_{gg} P_{mm}}}$$\n",
        "\n",
        "where we assume that the galaxy power spectrum can be written as\n",
        "\n",
        "$$ P_{gg} = b_a^2 P_{mm} + P_\\mathrm{shot} $$\n",
        "\n",
        "with a constant shot noise term. The following interactive plots calculate the correlation coefficient $r$ for chosen values of the (large-scale) bias $b_a$ and the shot noise."
      ]
    },
    {
      "cell_type": "code",
      "metadata": {
        "id": "2jL5V9qU6yef",
        "colab_type": "code",
        "outputId": "0b9b1235-38c4-4df7-b1f2-f675d186b1ec",
        "colab": {
          "base_uri": "https://localhost:8080/",
          "height": 35
        }
      },
      "source": [
        "# first, download power spectrum data\n",
        "url = 'https://raw.githubusercontent.com/sthagstotz/colab_support/master/camb_matterpower.dat'\n",
        "r = requests.get(url, allow_redirects=True)\n",
        "open('camb_matterpower.dat', 'wb').write(r.content)"
      ],
      "execution_count": 2,
      "outputs": [
        {
          "output_type": "execute_result",
          "data": {
            "text/plain": [
              "15718"
            ]
          },
          "metadata": {
            "tags": []
          },
          "execution_count": 2
        }
      ]
    },
    {
      "cell_type": "code",
      "metadata": {
        "id": "KINUU2zUPJmJ",
        "colab_type": "code",
        "outputId": "1aac55ea-2694-406e-c3ef-0d2cf4b70494",
        "colab": {
          "base_uri": "https://localhost:8080/",
          "height": 355,
          "referenced_widgets": [
            "dcea9d5b04c84f67bb55a93c165de6cd",
            "16b291a9c2cf4899a22320c5a04f1380",
            "cc373f5242814455afd8922e98583a36",
            "3f2a3f8e3901427d9b9d661e1efdf363",
            "e36c59c38262440f918253915c3761cf",
            "3bc4abf70431468e88d512fea70a7a72",
            "834050ce8d62427093173ccc01a6e28c",
            "5c673d28a4d640c7bef4ad8cf6a98a89",
            "ba07ec991ffd433abd6ac74778b4c7d6",
            "05a886bf17e544e59eb869d56aa9433e"
          ]
        }
      },
      "source": [
        "# Interactive plot showing the correlation coefficient\n",
        "\n",
        "shotnoise = 3500.\n",
        "bias = 2.\n",
        "\n",
        "data = np.loadtxt('camb_matterpower.dat')\n",
        "karray = data[:,0]\n",
        "pk = data[:,1]\n",
        "\n",
        "@interact\n",
        "def set_shot_scale(\n",
        "    a_bias=widgets.FloatSlider(min=0.,max=5.,step=0.1,value=2.,description='bias'),\n",
        "    shotnoise=widgets.IntSlider(min=100.,max=10000.,step=100,value=3500.,description='shot noise')\n",
        "    ):\n",
        "\n",
        "    #fiducial values: shotnoise = 3500, bias = 2\n",
        "    P_mm = pk\n",
        "    #fiducial values\n",
        "    a_bias_fid, P_shot_fid = 2., 3500.\n",
        "    P_gg = (a_bias_fid)**2 * pk + P_shot_fid\n",
        "    r_fid = a_bias_fid * pk / np.sqrt(P_mm * P_gg)\n",
        "    plt.semilogx(karray, r_fid, 'C0', alpha=0.5)\n",
        "\n",
        "    P_mm = pk\n",
        "    P_gg = a_bias**2 * pk + shotnoise\n",
        "    r = a_bias * pk / np.sqrt(P_mm * P_gg)\n",
        "    plt.semilogx(karray, r, 'C0')\n",
        "\n",
        "    plt.xlim(1e-2)\n",
        "    plt.ylim(0.2, 1.0)\n",
        "    plt.xlabel('$k$ [Mpc/h]')\n",
        "    plt.ylabel('correlation coefficient $r$')"
      ],
      "execution_count": 3,
      "outputs": [
        {
          "output_type": "display_data",
          "data": {
            "application/vnd.jupyter.widget-view+json": {
              "model_id": "dcea9d5b04c84f67bb55a93c165de6cd",
              "version_minor": 0,
              "version_major": 2
            },
            "text/plain": [
              "interactive(children=(FloatSlider(value=2.0, description='bias', max=5.0), IntSlider(value=3500, description='…"
            ]
          },
          "metadata": {
            "tags": []
          }
        }
      ]
    },
    {
      "cell_type": "markdown",
      "metadata": {
        "id": "zxWrfI8lPNqB",
        "colab_type": "text"
      },
      "source": [
        "Check for the additional effect of redshift space distrotions (RSD) on the correlation coefficient, using\n",
        "$$ P_{gg}^{\\rm RSD} = b_a^2 \\left(1 + \\frac{2}{3} \\beta + \\frac{1}{5} \\beta^2 \\right) P_{mm} + P_{\\rm shot}$$\n",
        "with\n",
        "$$ \\beta = \\frac{\\Omega_m(z)^{0.545}}{b_a}$$"
      ]
    },
    {
      "cell_type": "code",
      "metadata": {
        "id": "yPwSiBvVSqNh",
        "colab_type": "code",
        "outputId": "82a0e144-64eb-4bb5-d578-491a409e2950",
        "colab": {
          "base_uri": "https://localhost:8080/",
          "height": 355,
          "referenced_widgets": [
            "366b4ac0f1d24374b1672fc10466d8ae",
            "e737c5edbec847e086d0fced36ae07d0",
            "d29740151d6b4686af72203db2890bd2",
            "43fd112114da4ffebbd2edbcb7c640c4",
            "9e6274f0552e4090b57b65969918c234",
            "24c18c2d8c9645b985adb552bd2d3218",
            "7cf9cab5c224410b8e2f01037542be1d",
            "1300f0583aab481faddc54c5f29097c0",
            "738d818d5c874571af709d6f2f7c076a",
            "558a7ebd55b34dc2b11df7bd97cd230c"
          ]
        }
      },
      "source": [
        "@interact\n",
        "def set_shot_scale(\n",
        "    a_bias=widgets.FloatSlider(min=0.,max=5.,step=0.1,value=2.,description='bias'),\n",
        "    shotnoise=widgets.IntSlider(min=100.,max=10000.,step=100,value=3500.,description='shot noise')\n",
        "    ):\n",
        "    #fiducial values: shotnoise = 3500, bias = 2\n",
        "    P_mm = pk\n",
        "    #fiducial values\n",
        "    a_bias_fid, P_shot_fid = 2., 3500.\n",
        "    P_gg = (a_bias_fid)**2 * pk + P_shot_fid\n",
        "    r_fid = a_bias_fid * pk / np.sqrt(P_mm * P_gg)\n",
        "    plt.semilogx(karray, r_fid, 'C0', alpha=0.5)\n",
        "\n",
        "    P_mm = pk\n",
        "    P_gg = a_bias**2 * pk + shotnoise\n",
        "    r = a_bias * pk / np.sqrt(P_mm * P_gg)\n",
        "    plt.semilogx(karray, r, 'C0', label='shot noise contribution')\n",
        "\n",
        "    #including RSD\n",
        "    beta = 0.78 / a_bias_fid #Omega_m(z=0.57)**0.545 ~ 0.78 for Planck\n",
        "    rsd = (1. + 2./3 * beta + 1./5 * beta**2)\n",
        "    P_rsd = a_bias_fid**2 * rsd * pk + P_shot_fid\n",
        "    r_rsd_fid = a_bias_fid * pk / np.sqrt(P_mm * P_rsd)\n",
        "    plt.semilogx(karray, r_rsd_fid, 'C1', alpha=0.5)\n",
        "\n",
        "    beta = 0.78 / a_bias\n",
        "    rsd = (1. + 2./3 * beta + 1./5 * beta**2)\n",
        "    P_rsd = a_bias**2 * rsd * pk + shotnoise\n",
        "    r_rsd = a_bias * pk / np.sqrt(P_mm * P_rsd)\n",
        "    plt.semilogx(karray, r_rsd, 'C1', label='including RSD')\n",
        "\n",
        "    plt.xlim(1e-2)\n",
        "    plt.ylim(0.2, 1.0)\n",
        "    plt.xlabel('$k$ [Mpc/h]')\n",
        "    plt.ylabel('correlation coefficient $r$')\n",
        "    plt.legend(frameon=False)"
      ],
      "execution_count": 4,
      "outputs": [
        {
          "output_type": "display_data",
          "data": {
            "application/vnd.jupyter.widget-view+json": {
              "model_id": "366b4ac0f1d24374b1672fc10466d8ae",
              "version_minor": 0,
              "version_major": 2
            },
            "text/plain": [
              "interactive(children=(FloatSlider(value=2.0, description='bias', max=5.0), IntSlider(value=3500, description='…"
            ]
          },
          "metadata": {
            "tags": []
          }
        }
      ]
    },
    {
      "cell_type": "code",
      "metadata": {
        "id": "V6mCpf21W5Y_",
        "colab_type": "code",
        "colab": {}
      },
      "source": [
        ""
      ],
      "execution_count": 0,
      "outputs": []
    }
  ]
}
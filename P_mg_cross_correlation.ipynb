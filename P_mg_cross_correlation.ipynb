{
  "nbformat": 4,
  "nbformat_minor": 0,
  "metadata": {
    "colab": {
      "name": "P_mg_cross_correlation.ipynb",
      "provenance": [],
      "include_colab_link": true
    },
    "kernelspec": {
      "name": "python3",
      "display_name": "Python 3"
    },
    "widgets": {
      "application/vnd.jupyter.widget-state+json": {
        "2932a900410148cb9ea4b8f5084dcd94": {
          "model_module": "@jupyter-widgets/controls",
          "model_name": "VBoxModel",
          "state": {
            "_view_name": "VBoxView",
            "_dom_classes": [
              "widget-interact"
            ],
            "_model_name": "VBoxModel",
            "_view_module": "@jupyter-widgets/controls",
            "_model_module_version": "1.5.0",
            "_view_count": null,
            "_view_module_version": "1.5.0",
            "box_style": "",
            "layout": "IPY_MODEL_63cedb889f3a46f8a039c17d8493718d",
            "_model_module": "@jupyter-widgets/controls",
            "children": [
              "IPY_MODEL_323651991c7d47b3801f049c9fb5b2e9",
              "IPY_MODEL_96861a0f032443ca8008da6b029658f0",
              "IPY_MODEL_15eb8785a27842b1882f9f5068c56fbf"
            ]
          }
        },
        "63cedb889f3a46f8a039c17d8493718d": {
          "model_module": "@jupyter-widgets/base",
          "model_name": "LayoutModel",
          "state": {
            "_view_name": "LayoutView",
            "grid_template_rows": null,
            "right": null,
            "justify_content": null,
            "_view_module": "@jupyter-widgets/base",
            "overflow": null,
            "_model_module_version": "1.2.0",
            "_view_count": null,
            "flex_flow": null,
            "width": null,
            "min_width": null,
            "border": null,
            "align_items": null,
            "bottom": null,
            "_model_module": "@jupyter-widgets/base",
            "top": null,
            "grid_column": null,
            "overflow_y": null,
            "overflow_x": null,
            "grid_auto_flow": null,
            "grid_area": null,
            "grid_template_columns": null,
            "flex": null,
            "_model_name": "LayoutModel",
            "justify_items": null,
            "grid_row": null,
            "max_height": null,
            "align_content": null,
            "visibility": null,
            "align_self": null,
            "height": null,
            "min_height": null,
            "padding": null,
            "grid_auto_rows": null,
            "grid_gap": null,
            "max_width": null,
            "order": null,
            "_view_module_version": "1.2.0",
            "grid_template_areas": null,
            "object_position": null,
            "object_fit": null,
            "grid_auto_columns": null,
            "margin": null,
            "display": null,
            "left": null
          }
        },
        "323651991c7d47b3801f049c9fb5b2e9": {
          "model_module": "@jupyter-widgets/controls",
          "model_name": "FloatSliderModel",
          "state": {
            "_view_name": "FloatSliderView",
            "style": "IPY_MODEL_4656ca7924f845ef8197b15e1dffca46",
            "_dom_classes": [],
            "description": "bias",
            "step": 0.1,
            "_model_name": "FloatSliderModel",
            "orientation": "horizontal",
            "max": 5,
            "_view_module": "@jupyter-widgets/controls",
            "_model_module_version": "1.5.0",
            "value": 2.5,
            "_view_count": null,
            "disabled": false,
            "_view_module_version": "1.5.0",
            "min": 0,
            "continuous_update": true,
            "readout_format": ".2f",
            "description_tooltip": null,
            "readout": true,
            "_model_module": "@jupyter-widgets/controls",
            "layout": "IPY_MODEL_23ac3f09a6a748718f9a519b2c31429e"
          }
        },
        "96861a0f032443ca8008da6b029658f0": {
          "model_module": "@jupyter-widgets/controls",
          "model_name": "IntSliderModel",
          "state": {
            "_view_name": "IntSliderView",
            "style": "IPY_MODEL_7954efc936cf4719b499ebe6bb0444bd",
            "_dom_classes": [],
            "description": "shot noise",
            "step": 100,
            "_model_name": "IntSliderModel",
            "orientation": "horizontal",
            "max": 10000,
            "_view_module": "@jupyter-widgets/controls",
            "_model_module_version": "1.5.0",
            "value": 3500,
            "_view_count": null,
            "disabled": false,
            "_view_module_version": "1.5.0",
            "min": 100,
            "continuous_update": true,
            "readout_format": "d",
            "description_tooltip": null,
            "readout": true,
            "_model_module": "@jupyter-widgets/controls",
            "layout": "IPY_MODEL_a3923b8b232646789f1d2b64434fc2ab"
          }
        },
        "15eb8785a27842b1882f9f5068c56fbf": {
          "model_module": "@jupyter-widgets/output",
          "model_name": "OutputModel",
          "state": {
            "_view_name": "OutputView",
            "msg_id": "",
            "_dom_classes": [],
            "_model_name": "OutputModel",
            "outputs": [
              {
                "output_type": "display_data",
                "metadata": {
                  "tags": [],
                  "needs_background": "light"
                },
                "image/png": "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\n",
                "text/plain": "<Figure size 432x288 with 1 Axes>"
              }
            ],
            "_view_module": "@jupyter-widgets/output",
            "_model_module_version": "1.0.0",
            "_view_count": null,
            "_view_module_version": "1.0.0",
            "layout": "IPY_MODEL_a25bdcf0e88346a392ea816545f27491",
            "_model_module": "@jupyter-widgets/output"
          }
        },
        "4656ca7924f845ef8197b15e1dffca46": {
          "model_module": "@jupyter-widgets/controls",
          "model_name": "SliderStyleModel",
          "state": {
            "_view_name": "StyleView",
            "handle_color": null,
            "_model_name": "SliderStyleModel",
            "description_width": "",
            "_view_module": "@jupyter-widgets/base",
            "_model_module_version": "1.5.0",
            "_view_count": null,
            "_view_module_version": "1.2.0",
            "_model_module": "@jupyter-widgets/controls"
          }
        },
        "23ac3f09a6a748718f9a519b2c31429e": {
          "model_module": "@jupyter-widgets/base",
          "model_name": "LayoutModel",
          "state": {
            "_view_name": "LayoutView",
            "grid_template_rows": null,
            "right": null,
            "justify_content": null,
            "_view_module": "@jupyter-widgets/base",
            "overflow": null,
            "_model_module_version": "1.2.0",
            "_view_count": null,
            "flex_flow": null,
            "width": null,
            "min_width": null,
            "border": null,
            "align_items": null,
            "bottom": null,
            "_model_module": "@jupyter-widgets/base",
            "top": null,
            "grid_column": null,
            "overflow_y": null,
            "overflow_x": null,
            "grid_auto_flow": null,
            "grid_area": null,
            "grid_template_columns": null,
            "flex": null,
            "_model_name": "LayoutModel",
            "justify_items": null,
            "grid_row": null,
            "max_height": null,
            "align_content": null,
            "visibility": null,
            "align_self": null,
            "height": null,
            "min_height": null,
            "padding": null,
            "grid_auto_rows": null,
            "grid_gap": null,
            "max_width": null,
            "order": null,
            "_view_module_version": "1.2.0",
            "grid_template_areas": null,
            "object_position": null,
            "object_fit": null,
            "grid_auto_columns": null,
            "margin": null,
            "display": null,
            "left": null
          }
        },
        "7954efc936cf4719b499ebe6bb0444bd": {
          "model_module": "@jupyter-widgets/controls",
          "model_name": "SliderStyleModel",
          "state": {
            "_view_name": "StyleView",
            "handle_color": null,
            "_model_name": "SliderStyleModel",
            "description_width": "",
            "_view_module": "@jupyter-widgets/base",
            "_model_module_version": "1.5.0",
            "_view_count": null,
            "_view_module_version": "1.2.0",
            "_model_module": "@jupyter-widgets/controls"
          }
        },
        "a3923b8b232646789f1d2b64434fc2ab": {
          "model_module": "@jupyter-widgets/base",
          "model_name": "LayoutModel",
          "state": {
            "_view_name": "LayoutView",
            "grid_template_rows": null,
            "right": null,
            "justify_content": null,
            "_view_module": "@jupyter-widgets/base",
            "overflow": null,
            "_model_module_version": "1.2.0",
            "_view_count": null,
            "flex_flow": null,
            "width": null,
            "min_width": null,
            "border": null,
            "align_items": null,
            "bottom": null,
            "_model_module": "@jupyter-widgets/base",
            "top": null,
            "grid_column": null,
            "overflow_y": null,
            "overflow_x": null,
            "grid_auto_flow": null,
            "grid_area": null,
            "grid_template_columns": null,
            "flex": null,
            "_model_name": "LayoutModel",
            "justify_items": null,
            "grid_row": null,
            "max_height": null,
            "align_content": null,
            "visibility": null,
            "align_self": null,
            "height": null,
            "min_height": null,
            "padding": null,
            "grid_auto_rows": null,
            "grid_gap": null,
            "max_width": null,
            "order": null,
            "_view_module_version": "1.2.0",
            "grid_template_areas": null,
            "object_position": null,
            "object_fit": null,
            "grid_auto_columns": null,
            "margin": null,
            "display": null,
            "left": null
          }
        },
        "a25bdcf0e88346a392ea816545f27491": {
          "model_module": "@jupyter-widgets/base",
          "model_name": "LayoutModel",
          "state": {
            "_view_name": "LayoutView",
            "grid_template_rows": null,
            "right": null,
            "justify_content": null,
            "_view_module": "@jupyter-widgets/base",
            "overflow": null,
            "_model_module_version": "1.2.0",
            "_view_count": null,
            "flex_flow": null,
            "width": null,
            "min_width": null,
            "border": null,
            "align_items": null,
            "bottom": null,
            "_model_module": "@jupyter-widgets/base",
            "top": null,
            "grid_column": null,
            "overflow_y": null,
            "overflow_x": null,
            "grid_auto_flow": null,
            "grid_area": null,
            "grid_template_columns": null,
            "flex": null,
            "_model_name": "LayoutModel",
            "justify_items": null,
            "grid_row": null,
            "max_height": null,
            "align_content": null,
            "visibility": null,
            "align_self": null,
            "height": null,
            "min_height": null,
            "padding": null,
            "grid_auto_rows": null,
            "grid_gap": null,
            "max_width": null,
            "order": null,
            "_view_module_version": "1.2.0",
            "grid_template_areas": null,
            "object_position": null,
            "object_fit": null,
            "grid_auto_columns": null,
            "margin": null,
            "display": null,
            "left": null
          }
        },
        "d6830e77b4ea4a9b9f8d46749a7f0d4f": {
          "model_module": "@jupyter-widgets/controls",
          "model_name": "VBoxModel",
          "state": {
            "_view_name": "VBoxView",
            "_dom_classes": [
              "widget-interact"
            ],
            "_model_name": "VBoxModel",
            "_view_module": "@jupyter-widgets/controls",
            "_model_module_version": "1.5.0",
            "_view_count": null,
            "_view_module_version": "1.5.0",
            "box_style": "",
            "layout": "IPY_MODEL_9cf54e4ac297430f89808da28017bb77",
            "_model_module": "@jupyter-widgets/controls",
            "children": [
              "IPY_MODEL_939eae5eb0694a25a55b7cbbfa3e950d",
              "IPY_MODEL_9bb526b0ba244871825c81c1936200b8",
              "IPY_MODEL_193d45c342064b809151fa2b2f1c92bd"
            ]
          }
        },
        "9cf54e4ac297430f89808da28017bb77": {
          "model_module": "@jupyter-widgets/base",
          "model_name": "LayoutModel",
          "state": {
            "_view_name": "LayoutView",
            "grid_template_rows": null,
            "right": null,
            "justify_content": null,
            "_view_module": "@jupyter-widgets/base",
            "overflow": null,
            "_model_module_version": "1.2.0",
            "_view_count": null,
            "flex_flow": null,
            "width": null,
            "min_width": null,
            "border": null,
            "align_items": null,
            "bottom": null,
            "_model_module": "@jupyter-widgets/base",
            "top": null,
            "grid_column": null,
            "overflow_y": null,
            "overflow_x": null,
            "grid_auto_flow": null,
            "grid_area": null,
            "grid_template_columns": null,
            "flex": null,
            "_model_name": "LayoutModel",
            "justify_items": null,
            "grid_row": null,
            "max_height": null,
            "align_content": null,
            "visibility": null,
            "align_self": null,
            "height": null,
            "min_height": null,
            "padding": null,
            "grid_auto_rows": null,
            "grid_gap": null,
            "max_width": null,
            "order": null,
            "_view_module_version": "1.2.0",
            "grid_template_areas": null,
            "object_position": null,
            "object_fit": null,
            "grid_auto_columns": null,
            "margin": null,
            "display": null,
            "left": null
          }
        },
        "939eae5eb0694a25a55b7cbbfa3e950d": {
          "model_module": "@jupyter-widgets/controls",
          "model_name": "FloatSliderModel",
          "state": {
            "_view_name": "FloatSliderView",
            "style": "IPY_MODEL_4d043c63ae1c46f1b1b623c7b17bab62",
            "_dom_classes": [],
            "description": "bias",
            "step": 0.1,
            "_model_name": "FloatSliderModel",
            "orientation": "horizontal",
            "max": 5,
            "_view_module": "@jupyter-widgets/controls",
            "_model_module_version": "1.5.0",
            "value": 1.7,
            "_view_count": null,
            "disabled": false,
            "_view_module_version": "1.5.0",
            "min": 0,
            "continuous_update": true,
            "readout_format": ".2f",
            "description_tooltip": null,
            "readout": true,
            "_model_module": "@jupyter-widgets/controls",
            "layout": "IPY_MODEL_55634c255121498d94a9adb810fd897b"
          }
        },
        "9bb526b0ba244871825c81c1936200b8": {
          "model_module": "@jupyter-widgets/controls",
          "model_name": "IntSliderModel",
          "state": {
            "_view_name": "IntSliderView",
            "style": "IPY_MODEL_8765f8a5382a4fd5aa754dba69e71efd",
            "_dom_classes": [],
            "description": "shot noise",
            "step": 100,
            "_model_name": "IntSliderModel",
            "orientation": "horizontal",
            "max": 10000,
            "_view_module": "@jupyter-widgets/controls",
            "_model_module_version": "1.5.0",
            "value": 4400,
            "_view_count": null,
            "disabled": false,
            "_view_module_version": "1.5.0",
            "min": 100,
            "continuous_update": true,
            "readout_format": "d",
            "description_tooltip": null,
            "readout": true,
            "_model_module": "@jupyter-widgets/controls",
            "layout": "IPY_MODEL_ad198247c2994b32bf1c9827aa9b04e5"
          }
        },
        "193d45c342064b809151fa2b2f1c92bd": {
          "model_module": "@jupyter-widgets/output",
          "model_name": "OutputModel",
          "state": {
            "_view_name": "OutputView",
            "msg_id": "",
            "_dom_classes": [],
            "_model_name": "OutputModel",
            "outputs": [
              {
                "output_type": "display_data",
                "metadata": {
                  "tags": [],
                  "needs_background": "light"
                },
                "image/png": "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\n",
                "text/plain": "<Figure size 432x288 with 1 Axes>"
              }
            ],
            "_view_module": "@jupyter-widgets/output",
            "_model_module_version": "1.0.0",
            "_view_count": null,
            "_view_module_version": "1.0.0",
            "layout": "IPY_MODEL_8201902e1ace4b2c9fd19a94c9b10bcc",
            "_model_module": "@jupyter-widgets/output"
          }
        },
        "4d043c63ae1c46f1b1b623c7b17bab62": {
          "model_module": "@jupyter-widgets/controls",
          "model_name": "SliderStyleModel",
          "state": {
            "_view_name": "StyleView",
            "handle_color": null,
            "_model_name": "SliderStyleModel",
            "description_width": "",
            "_view_module": "@jupyter-widgets/base",
            "_model_module_version": "1.5.0",
            "_view_count": null,
            "_view_module_version": "1.2.0",
            "_model_module": "@jupyter-widgets/controls"
          }
        },
        "55634c255121498d94a9adb810fd897b": {
          "model_module": "@jupyter-widgets/base",
          "model_name": "LayoutModel",
          "state": {
            "_view_name": "LayoutView",
            "grid_template_rows": null,
            "right": null,
            "justify_content": null,
            "_view_module": "@jupyter-widgets/base",
            "overflow": null,
            "_model_module_version": "1.2.0",
            "_view_count": null,
            "flex_flow": null,
            "width": null,
            "min_width": null,
            "border": null,
            "align_items": null,
            "bottom": null,
            "_model_module": "@jupyter-widgets/base",
            "top": null,
            "grid_column": null,
            "overflow_y": null,
            "overflow_x": null,
            "grid_auto_flow": null,
            "grid_area": null,
            "grid_template_columns": null,
            "flex": null,
            "_model_name": "LayoutModel",
            "justify_items": null,
            "grid_row": null,
            "max_height": null,
            "align_content": null,
            "visibility": null,
            "align_self": null,
            "height": null,
            "min_height": null,
            "padding": null,
            "grid_auto_rows": null,
            "grid_gap": null,
            "max_width": null,
            "order": null,
            "_view_module_version": "1.2.0",
            "grid_template_areas": null,
            "object_position": null,
            "object_fit": null,
            "grid_auto_columns": null,
            "margin": null,
            "display": null,
            "left": null
          }
        },
        "8765f8a5382a4fd5aa754dba69e71efd": {
          "model_module": "@jupyter-widgets/controls",
          "model_name": "SliderStyleModel",
          "state": {
            "_view_name": "StyleView",
            "handle_color": null,
            "_model_name": "SliderStyleModel",
            "description_width": "",
            "_view_module": "@jupyter-widgets/base",
            "_model_module_version": "1.5.0",
            "_view_count": null,
            "_view_module_version": "1.2.0",
            "_model_module": "@jupyter-widgets/controls"
          }
        },
        "ad198247c2994b32bf1c9827aa9b04e5": {
          "model_module": "@jupyter-widgets/base",
          "model_name": "LayoutModel",
          "state": {
            "_view_name": "LayoutView",
            "grid_template_rows": null,
            "right": null,
            "justify_content": null,
            "_view_module": "@jupyter-widgets/base",
            "overflow": null,
            "_model_module_version": "1.2.0",
            "_view_count": null,
            "flex_flow": null,
            "width": null,
            "min_width": null,
            "border": null,
            "align_items": null,
            "bottom": null,
            "_model_module": "@jupyter-widgets/base",
            "top": null,
            "grid_column": null,
            "overflow_y": null,
            "overflow_x": null,
            "grid_auto_flow": null,
            "grid_area": null,
            "grid_template_columns": null,
            "flex": null,
            "_model_name": "LayoutModel",
            "justify_items": null,
            "grid_row": null,
            "max_height": null,
            "align_content": null,
            "visibility": null,
            "align_self": null,
            "height": null,
            "min_height": null,
            "padding": null,
            "grid_auto_rows": null,
            "grid_gap": null,
            "max_width": null,
            "order": null,
            "_view_module_version": "1.2.0",
            "grid_template_areas": null,
            "object_position": null,
            "object_fit": null,
            "grid_auto_columns": null,
            "margin": null,
            "display": null,
            "left": null
          }
        },
        "8201902e1ace4b2c9fd19a94c9b10bcc": {
          "model_module": "@jupyter-widgets/base",
          "model_name": "LayoutModel",
          "state": {
            "_view_name": "LayoutView",
            "grid_template_rows": null,
            "right": null,
            "justify_content": null,
            "_view_module": "@jupyter-widgets/base",
            "overflow": null,
            "_model_module_version": "1.2.0",
            "_view_count": null,
            "flex_flow": null,
            "width": null,
            "min_width": null,
            "border": null,
            "align_items": null,
            "bottom": null,
            "_model_module": "@jupyter-widgets/base",
            "top": null,
            "grid_column": null,
            "overflow_y": null,
            "overflow_x": null,
            "grid_auto_flow": null,
            "grid_area": null,
            "grid_template_columns": null,
            "flex": null,
            "_model_name": "LayoutModel",
            "justify_items": null,
            "grid_row": null,
            "max_height": null,
            "align_content": null,
            "visibility": null,
            "align_self": null,
            "height": null,
            "min_height": null,
            "padding": null,
            "grid_auto_rows": null,
            "grid_gap": null,
            "max_width": null,
            "order": null,
            "_view_module_version": "1.2.0",
            "grid_template_areas": null,
            "object_position": null,
            "object_fit": null,
            "grid_auto_columns": null,
            "margin": null,
            "display": null,
            "left": null
          }
        }
      }
    }
  },
  "cells": [
    {
      "cell_type": "markdown",
      "metadata": {
        "id": "view-in-github",
        "colab_type": "text"
      },
      "source": [
        "<a href=\"https://colab.research.google.com/github/sthagstotz/colab_support/blob/master/P_mg_cross_correlation.ipynb\" target=\"_parent\"><img src=\"https://colab.research.google.com/assets/colab-badge.svg\" alt=\"Open In Colab\"/></a>"
      ]
    },
    {
      "cell_type": "code",
      "metadata": {
        "id": "48nms1wRPBVT",
        "colab_type": "code",
        "colab": {}
      },
      "source": [
        "from ipywidgets import interact, interactive, fixed, interact_manual\n",
        "import ipywidgets as widgets\n",
        "\n",
        "import requests\n",
        "\n",
        "import numpy as np\n",
        "import pylab as plt\n"
      ],
      "execution_count": 0,
      "outputs": []
    },
    {
      "cell_type": "markdown",
      "metadata": {
        "id": "JeV2-bxhQNdA",
        "colab_type": "text"
      },
      "source": [
        "Calculate the scale-dependent correlation coefficient between matter and galaxy power spectra\n",
        "\n",
        "$$ r(k)= \\frac{P_{mg}}{\\sqrt{P_{gg} P_{mm}}}$$\n",
        "\n",
        "where we assume that the galaxy power spectrum can be written as\n",
        "\n",
        "$$ P_{gg} = b_a^2 P_{mm} + P_\\mathrm{shot} $$\n",
        "\n",
        "with a constant shot noise term. The following interactive plots calculate the correlation coefficient $r$ for chosen values of the (large-scale) bias $b_a$ and the shot noise."
      ]
    },
    {
      "cell_type": "code",
      "metadata": {
        "id": "2jL5V9qU6yef",
        "colab_type": "code",
        "outputId": "34714498-2034-4736-9dcb-3b9f187b609d",
        "colab": {
          "base_uri": "https://localhost:8080/",
          "height": 34
        }
      },
      "source": [
        "# first, download power spectrum data\n",
        "url = 'https://raw.githubusercontent.com/sthagstotz/colab_support/master/boss_matterpower.dat'\n",
        "r = requests.get(url, allow_redirects=True)\n",
        "open('boss_matterpower.dat', 'wb').write(r.content)"
      ],
      "execution_count": 0,
      "outputs": [
        {
          "output_type": "execute_result",
          "data": {
            "text/plain": [
              "15718"
            ]
          },
          "metadata": {
            "tags": []
          },
          "execution_count": 2
        }
      ]
    },
    {
      "cell_type": "code",
      "metadata": {
        "id": "KINUU2zUPJmJ",
        "colab_type": "code",
        "outputId": "0bb20588-55c5-4199-802d-683c5d520f3e",
        "colab": {
          "base_uri": "https://localhost:8080/",
          "height": 355,
          "referenced_widgets": [
            "2932a900410148cb9ea4b8f5084dcd94",
            "63cedb889f3a46f8a039c17d8493718d",
            "323651991c7d47b3801f049c9fb5b2e9",
            "96861a0f032443ca8008da6b029658f0",
            "15eb8785a27842b1882f9f5068c56fbf",
            "4656ca7924f845ef8197b15e1dffca46",
            "23ac3f09a6a748718f9a519b2c31429e",
            "7954efc936cf4719b499ebe6bb0444bd",
            "a3923b8b232646789f1d2b64434fc2ab",
            "a25bdcf0e88346a392ea816545f27491"
          ]
        }
      },
      "source": [
        "# Interactive plot showing the correlation coefficient\n",
        "\n",
        "shotnoise = 3500.\n",
        "bias = 2.\n",
        "\n",
        "data = np.loadtxt('boss_matterpower.dat')\n",
        "karray = data[:,0]\n",
        "pk = data[:,1]\n",
        "\n",
        "@interact\n",
        "def set_shot_scale(\n",
        "    a_bias=widgets.FloatSlider(min=0.,max=5.,step=0.1,value=2.,description='bias'),\n",
        "    shotnoise=widgets.IntSlider(min=100.,max=10000.,step=100,value=3500.,description='shot noise')\n",
        "    ):\n",
        "\n",
        "    #fiducial values: shotnoise = 3500, bias = 2\n",
        "    P_mm = pk\n",
        "    #fiducial values\n",
        "    a_bias_fid, P_shot_fid = 2., 3500.\n",
        "    P_gg = (a_bias_fid)**2 * pk + P_shot_fid\n",
        "    r_fid = a_bias_fid * pk / np.sqrt(P_mm * P_gg)\n",
        "    plt.semilogx(karray, r_fid, 'C0', alpha=0.5)\n",
        "\n",
        "    P_mm = pk\n",
        "    P_gg = a_bias**2 * pk + shotnoise\n",
        "    r = a_bias * pk / np.sqrt(P_mm * P_gg)\n",
        "    plt.semilogx(karray, r, 'C0')\n",
        "\n",
        "    plt.xlim(1e-2)\n",
        "    plt.ylim(0.2, 1.0)\n",
        "    plt.xlabel('$k$ [Mpc/h]')\n",
        "    plt.ylabel('correlation coefficient $r$')"
      ],
      "execution_count": 14,
      "outputs": [
        {
          "output_type": "display_data",
          "data": {
            "application/vnd.jupyter.widget-view+json": {
              "model_id": "2932a900410148cb9ea4b8f5084dcd94",
              "version_minor": 0,
              "version_major": 2
            },
            "text/plain": [
              "interactive(children=(FloatSlider(value=2.0, description='bias', max=5.0), IntSlider(value=3500, description='…"
            ]
          },
          "metadata": {
            "tags": []
          }
        }
      ]
    },
    {
      "cell_type": "markdown",
      "metadata": {
        "id": "zxWrfI8lPNqB",
        "colab_type": "text"
      },
      "source": [
        "Check for the additional effect of redshift space distrotions (RSD) on the correlation coefficient, using\n",
        "$$ P_{gg}^{\\rm RSD} = b_a^2 \\left(1 + \\frac{2}{3} \\beta + \\frac{1}{5} \\beta^2 \\right) P_{mm} + P_{\\rm shot}$$\n",
        "with\n",
        "$$ \\beta = \\frac{\\Omega_m(z)^{0.545}}{b_a}$$"
      ]
    },
    {
      "cell_type": "code",
      "metadata": {
        "id": "yPwSiBvVSqNh",
        "colab_type": "code",
        "outputId": "24b5f2f4-5d4a-4d33-c979-ce116bab44e5",
        "colab": {
          "base_uri": "https://localhost:8080/",
          "height": 355,
          "referenced_widgets": [
            "d6830e77b4ea4a9b9f8d46749a7f0d4f",
            "9cf54e4ac297430f89808da28017bb77",
            "939eae5eb0694a25a55b7cbbfa3e950d",
            "9bb526b0ba244871825c81c1936200b8",
            "193d45c342064b809151fa2b2f1c92bd",
            "4d043c63ae1c46f1b1b623c7b17bab62",
            "55634c255121498d94a9adb810fd897b",
            "8765f8a5382a4fd5aa754dba69e71efd",
            "ad198247c2994b32bf1c9827aa9b04e5",
            "8201902e1ace4b2c9fd19a94c9b10bcc"
          ]
        }
      },
      "source": [
        "@interact\n",
        "def set_shot_scale(\n",
        "    a_bias=widgets.FloatSlider(min=0.,max=5.,step=0.1,value=2.,description='bias'),\n",
        "    shotnoise=widgets.IntSlider(min=100.,max=10000.,step=100,value=3500.,description='shot noise')\n",
        "    ):\n",
        "    #fiducial values: shotnoise = 3500, bias = 2\n",
        "    P_mm = pk\n",
        "    #fiducial values\n",
        "    a_bias_fid, P_shot_fid = 2., 3500.\n",
        "    P_gg = (a_bias_fid)**2 * pk + P_shot_fid\n",
        "    r_fid = a_bias_fid * pk / np.sqrt(P_mm * P_gg)\n",
        "    plt.semilogx(karray, r_fid, 'C0', alpha=0.5)\n",
        "\n",
        "    P_mm = pk\n",
        "    P_gg = a_bias**2 * pk + shotnoise\n",
        "    r = a_bias * pk / np.sqrt(P_mm * P_gg)\n",
        "    plt.semilogx(karray, r, 'C0', label='shot noise contribution')\n",
        "\n",
        "    #including RSD\n",
        "    beta = 0.78 / a_bias_fid #Omega_m(z=0.57)**0.545 ~ 0.78 for Planck\n",
        "    rsd = (1. + 2./3 * beta + 1./5 * beta**2)\n",
        "    P_rsd = a_bias_fid**2 * rsd * pk + P_shot_fid\n",
        "    r_rsd_fid = a_bias_fid * pk / np.sqrt(P_mm * P_rsd)\n",
        "    plt.semilogx(karray, r_rsd_fid, 'C1', alpha=0.5)\n",
        "\n",
        "    beta = 0.78 / a_bias\n",
        "    rsd = (1. + 2./3 * beta + 1./5 * beta**2)\n",
        "    P_rsd = a_bias**2 * rsd * pk + shotnoise\n",
        "    r_rsd = a_bias * pk / np.sqrt(P_mm * P_rsd)\n",
        "    plt.semilogx(karray, r_rsd, 'C1', label='including RSD')\n",
        "\n",
        "    plt.xlim(1e-2)\n",
        "    plt.ylim(0.2, 1.0)\n",
        "    plt.xlabel('$k$ [Mpc/h]')\n",
        "    plt.ylabel('correlation coefficient $r$')\n",
        "    plt.legend(frameon=False)"
      ],
      "execution_count": 15,
      "outputs": [
        {
          "output_type": "display_data",
          "data": {
            "application/vnd.jupyter.widget-view+json": {
              "model_id": "d6830e77b4ea4a9b9f8d46749a7f0d4f",
              "version_minor": 0,
              "version_major": 2
            },
            "text/plain": [
              "interactive(children=(FloatSlider(value=2.0, description='bias', max=5.0), IntSlider(value=3500, description='…"
            ]
          },
          "metadata": {
            "tags": []
          }
        }
      ]
    },
    {
      "cell_type": "code",
      "metadata": {
        "id": "V6mCpf21W5Y_",
        "colab_type": "code",
        "colab": {}
      },
      "source": [
        ""
      ],
      "execution_count": 0,
      "outputs": []
    }
  ]
}
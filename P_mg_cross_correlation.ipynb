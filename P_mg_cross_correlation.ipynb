{
  "nbformat": 4,
  "nbformat_minor": 0,
  "metadata": {
    "colab": {
      "name": "P_mg_cross_correlation.ipynb",
      "provenance": [],
      "include_colab_link": true
    },
    "kernelspec": {
      "name": "python3",
      "display_name": "Python 3"
    },
    "widgets": {
      "application/vnd.jupyter.widget-state+json": {
        "c908a94ad151433e81ad30b552efd92d": {
          "model_module": "@jupyter-widgets/controls",
          "model_name": "VBoxModel",
          "state": {
            "_view_name": "VBoxView",
            "_dom_classes": [
              "widget-interact"
            ],
            "_model_name": "VBoxModel",
            "_view_module": "@jupyter-widgets/controls",
            "_model_module_version": "1.5.0",
            "_view_count": null,
            "_view_module_version": "1.5.0",
            "box_style": "",
            "layout": "IPY_MODEL_f5f746cb5d8f4235837c53dfe270ec58",
            "_model_module": "@jupyter-widgets/controls",
            "children": [
              "IPY_MODEL_3192791af2454c8b9a327565a54646f1",
              "IPY_MODEL_4b24e52296b04704974181f83d94e619",
              "IPY_MODEL_3385c4dbe1a14929b5e7b9851a0c0f70"
            ]
          }
        },
        "f5f746cb5d8f4235837c53dfe270ec58": {
          "model_module": "@jupyter-widgets/base",
          "model_name": "LayoutModel",
          "state": {
            "_view_name": "LayoutView",
            "grid_template_rows": null,
            "right": null,
            "justify_content": null,
            "_view_module": "@jupyter-widgets/base",
            "overflow": null,
            "_model_module_version": "1.2.0",
            "_view_count": null,
            "flex_flow": null,
            "width": null,
            "min_width": null,
            "border": null,
            "align_items": null,
            "bottom": null,
            "_model_module": "@jupyter-widgets/base",
            "top": null,
            "grid_column": null,
            "overflow_y": null,
            "overflow_x": null,
            "grid_auto_flow": null,
            "grid_area": null,
            "grid_template_columns": null,
            "flex": null,
            "_model_name": "LayoutModel",
            "justify_items": null,
            "grid_row": null,
            "max_height": null,
            "align_content": null,
            "visibility": null,
            "align_self": null,
            "height": null,
            "min_height": null,
            "padding": null,
            "grid_auto_rows": null,
            "grid_gap": null,
            "max_width": null,
            "order": null,
            "_view_module_version": "1.2.0",
            "grid_template_areas": null,
            "object_position": null,
            "object_fit": null,
            "grid_auto_columns": null,
            "margin": null,
            "display": null,
            "left": null
          }
        },
        "3192791af2454c8b9a327565a54646f1": {
          "model_module": "@jupyter-widgets/controls",
          "model_name": "FloatSliderModel",
          "state": {
            "_view_name": "FloatSliderView",
            "style": "IPY_MODEL_8a1ede9bc939470e86bb671c7ac36bb9",
            "_dom_classes": [],
            "description": "bias",
            "step": 0.1,
            "_model_name": "FloatSliderModel",
            "orientation": "horizontal",
            "max": 5,
            "_view_module": "@jupyter-widgets/controls",
            "_model_module_version": "1.5.0",
            "value": 2.1,
            "_view_count": null,
            "disabled": false,
            "_view_module_version": "1.5.0",
            "min": 0,
            "continuous_update": true,
            "readout_format": ".2f",
            "description_tooltip": null,
            "readout": true,
            "_model_module": "@jupyter-widgets/controls",
            "layout": "IPY_MODEL_2d3e27ccbb9b4e0b90cef72d15b5e4a1"
          }
        },
        "4b24e52296b04704974181f83d94e619": {
          "model_module": "@jupyter-widgets/controls",
          "model_name": "IntSliderModel",
          "state": {
            "_view_name": "IntSliderView",
            "style": "IPY_MODEL_aee3e6c31d8b4b6d86352bf0ffb6749e",
            "_dom_classes": [],
            "description": "shot noise",
            "step": 100,
            "_model_name": "IntSliderModel",
            "orientation": "horizontal",
            "max": 10000,
            "_view_module": "@jupyter-widgets/controls",
            "_model_module_version": "1.5.0",
            "value": 2800,
            "_view_count": null,
            "disabled": false,
            "_view_module_version": "1.5.0",
            "min": 100,
            "continuous_update": true,
            "readout_format": "d",
            "description_tooltip": null,
            "readout": true,
            "_model_module": "@jupyter-widgets/controls",
            "layout": "IPY_MODEL_bce85664003f4388b09702cbccab57db"
          }
        },
        "3385c4dbe1a14929b5e7b9851a0c0f70": {
          "model_module": "@jupyter-widgets/output",
          "model_name": "OutputModel",
          "state": {
            "_view_name": "OutputView",
            "msg_id": "",
            "_dom_classes": [],
            "_model_name": "OutputModel",
            "outputs": [
              {
                "output_type": "display_data",
                "metadata": {
                  "tags": [],
                  "needs_background": "light"
                },
                "image/png": "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\n",
                "text/plain": "<Figure size 432x288 with 1 Axes>"
              }
            ],
            "_view_module": "@jupyter-widgets/output",
            "_model_module_version": "1.0.0",
            "_view_count": null,
            "_view_module_version": "1.0.0",
            "layout": "IPY_MODEL_f468e17f6dfb45fc948298c3b043cc5f",
            "_model_module": "@jupyter-widgets/output"
          }
        },
        "8a1ede9bc939470e86bb671c7ac36bb9": {
          "model_module": "@jupyter-widgets/controls",
          "model_name": "SliderStyleModel",
          "state": {
            "_view_name": "StyleView",
            "handle_color": null,
            "_model_name": "SliderStyleModel",
            "description_width": "",
            "_view_module": "@jupyter-widgets/base",
            "_model_module_version": "1.5.0",
            "_view_count": null,
            "_view_module_version": "1.2.0",
            "_model_module": "@jupyter-widgets/controls"
          }
        },
        "2d3e27ccbb9b4e0b90cef72d15b5e4a1": {
          "model_module": "@jupyter-widgets/base",
          "model_name": "LayoutModel",
          "state": {
            "_view_name": "LayoutView",
            "grid_template_rows": null,
            "right": null,
            "justify_content": null,
            "_view_module": "@jupyter-widgets/base",
            "overflow": null,
            "_model_module_version": "1.2.0",
            "_view_count": null,
            "flex_flow": null,
            "width": null,
            "min_width": null,
            "border": null,
            "align_items": null,
            "bottom": null,
            "_model_module": "@jupyter-widgets/base",
            "top": null,
            "grid_column": null,
            "overflow_y": null,
            "overflow_x": null,
            "grid_auto_flow": null,
            "grid_area": null,
            "grid_template_columns": null,
            "flex": null,
            "_model_name": "LayoutModel",
            "justify_items": null,
            "grid_row": null,
            "max_height": null,
            "align_content": null,
            "visibility": null,
            "align_self": null,
            "height": null,
            "min_height": null,
            "padding": null,
            "grid_auto_rows": null,
            "grid_gap": null,
            "max_width": null,
            "order": null,
            "_view_module_version": "1.2.0",
            "grid_template_areas": null,
            "object_position": null,
            "object_fit": null,
            "grid_auto_columns": null,
            "margin": null,
            "display": null,
            "left": null
          }
        },
        "aee3e6c31d8b4b6d86352bf0ffb6749e": {
          "model_module": "@jupyter-widgets/controls",
          "model_name": "SliderStyleModel",
          "state": {
            "_view_name": "StyleView",
            "handle_color": null,
            "_model_name": "SliderStyleModel",
            "description_width": "",
            "_view_module": "@jupyter-widgets/base",
            "_model_module_version": "1.5.0",
            "_view_count": null,
            "_view_module_version": "1.2.0",
            "_model_module": "@jupyter-widgets/controls"
          }
        },
        "bce85664003f4388b09702cbccab57db": {
          "model_module": "@jupyter-widgets/base",
          "model_name": "LayoutModel",
          "state": {
            "_view_name": "LayoutView",
            "grid_template_rows": null,
            "right": null,
            "justify_content": null,
            "_view_module": "@jupyter-widgets/base",
            "overflow": null,
            "_model_module_version": "1.2.0",
            "_view_count": null,
            "flex_flow": null,
            "width": null,
            "min_width": null,
            "border": null,
            "align_items": null,
            "bottom": null,
            "_model_module": "@jupyter-widgets/base",
            "top": null,
            "grid_column": null,
            "overflow_y": null,
            "overflow_x": null,
            "grid_auto_flow": null,
            "grid_area": null,
            "grid_template_columns": null,
            "flex": null,
            "_model_name": "LayoutModel",
            "justify_items": null,
            "grid_row": null,
            "max_height": null,
            "align_content": null,
            "visibility": null,
            "align_self": null,
            "height": null,
            "min_height": null,
            "padding": null,
            "grid_auto_rows": null,
            "grid_gap": null,
            "max_width": null,
            "order": null,
            "_view_module_version": "1.2.0",
            "grid_template_areas": null,
            "object_position": null,
            "object_fit": null,
            "grid_auto_columns": null,
            "margin": null,
            "display": null,
            "left": null
          }
        },
        "f468e17f6dfb45fc948298c3b043cc5f": {
          "model_module": "@jupyter-widgets/base",
          "model_name": "LayoutModel",
          "state": {
            "_view_name": "LayoutView",
            "grid_template_rows": null,
            "right": null,
            "justify_content": null,
            "_view_module": "@jupyter-widgets/base",
            "overflow": null,
            "_model_module_version": "1.2.0",
            "_view_count": null,
            "flex_flow": null,
            "width": null,
            "min_width": null,
            "border": null,
            "align_items": null,
            "bottom": null,
            "_model_module": "@jupyter-widgets/base",
            "top": null,
            "grid_column": null,
            "overflow_y": null,
            "overflow_x": null,
            "grid_auto_flow": null,
            "grid_area": null,
            "grid_template_columns": null,
            "flex": null,
            "_model_name": "LayoutModel",
            "justify_items": null,
            "grid_row": null,
            "max_height": null,
            "align_content": null,
            "visibility": null,
            "align_self": null,
            "height": null,
            "min_height": null,
            "padding": null,
            "grid_auto_rows": null,
            "grid_gap": null,
            "max_width": null,
            "order": null,
            "_view_module_version": "1.2.0",
            "grid_template_areas": null,
            "object_position": null,
            "object_fit": null,
            "grid_auto_columns": null,
            "margin": null,
            "display": null,
            "left": null
          }
        },
        "fb5c532c0ebc43fb8a74ced6d15f43c6": {
          "model_module": "@jupyter-widgets/controls",
          "model_name": "VBoxModel",
          "state": {
            "_view_name": "VBoxView",
            "_dom_classes": [
              "widget-interact"
            ],
            "_model_name": "VBoxModel",
            "_view_module": "@jupyter-widgets/controls",
            "_model_module_version": "1.5.0",
            "_view_count": null,
            "_view_module_version": "1.5.0",
            "box_style": "",
            "layout": "IPY_MODEL_9fa14e2c20d047e2a4ebdfbeb671855a",
            "_model_module": "@jupyter-widgets/controls",
            "children": [
              "IPY_MODEL_6197b47438f74c11bf5ddd83fa6aa421",
              "IPY_MODEL_61ffb8e5b1f24e1c906fcf89d5722eab",
              "IPY_MODEL_abda37887ea54aa8834832f4f24f0567"
            ]
          }
        },
        "9fa14e2c20d047e2a4ebdfbeb671855a": {
          "model_module": "@jupyter-widgets/base",
          "model_name": "LayoutModel",
          "state": {
            "_view_name": "LayoutView",
            "grid_template_rows": null,
            "right": null,
            "justify_content": null,
            "_view_module": "@jupyter-widgets/base",
            "overflow": null,
            "_model_module_version": "1.2.0",
            "_view_count": null,
            "flex_flow": null,
            "width": null,
            "min_width": null,
            "border": null,
            "align_items": null,
            "bottom": null,
            "_model_module": "@jupyter-widgets/base",
            "top": null,
            "grid_column": null,
            "overflow_y": null,
            "overflow_x": null,
            "grid_auto_flow": null,
            "grid_area": null,
            "grid_template_columns": null,
            "flex": null,
            "_model_name": "LayoutModel",
            "justify_items": null,
            "grid_row": null,
            "max_height": null,
            "align_content": null,
            "visibility": null,
            "align_self": null,
            "height": null,
            "min_height": null,
            "padding": null,
            "grid_auto_rows": null,
            "grid_gap": null,
            "max_width": null,
            "order": null,
            "_view_module_version": "1.2.0",
            "grid_template_areas": null,
            "object_position": null,
            "object_fit": null,
            "grid_auto_columns": null,
            "margin": null,
            "display": null,
            "left": null
          }
        },
        "6197b47438f74c11bf5ddd83fa6aa421": {
          "model_module": "@jupyter-widgets/controls",
          "model_name": "FloatSliderModel",
          "state": {
            "_view_name": "FloatSliderView",
            "style": "IPY_MODEL_2def5f776d694d5f9bb5a799821d8c4d",
            "_dom_classes": [],
            "description": "bias",
            "step": 0.1,
            "_model_name": "FloatSliderModel",
            "orientation": "horizontal",
            "max": 5,
            "_view_module": "@jupyter-widgets/controls",
            "_model_module_version": "1.5.0",
            "value": 1.8,
            "_view_count": null,
            "disabled": false,
            "_view_module_version": "1.5.0",
            "min": 0,
            "continuous_update": true,
            "readout_format": ".2f",
            "description_tooltip": null,
            "readout": true,
            "_model_module": "@jupyter-widgets/controls",
            "layout": "IPY_MODEL_4492f81c0a75477dbed7593c15c45a06"
          }
        },
        "61ffb8e5b1f24e1c906fcf89d5722eab": {
          "model_module": "@jupyter-widgets/controls",
          "model_name": "IntSliderModel",
          "state": {
            "_view_name": "IntSliderView",
            "style": "IPY_MODEL_3e895069d5a9466ebae54bd391dab209",
            "_dom_classes": [],
            "description": "shot noise",
            "step": 100,
            "_model_name": "IntSliderModel",
            "orientation": "horizontal",
            "max": 10000,
            "_view_module": "@jupyter-widgets/controls",
            "_model_module_version": "1.5.0",
            "value": 3700,
            "_view_count": null,
            "disabled": false,
            "_view_module_version": "1.5.0",
            "min": 100,
            "continuous_update": true,
            "readout_format": "d",
            "description_tooltip": null,
            "readout": true,
            "_model_module": "@jupyter-widgets/controls",
            "layout": "IPY_MODEL_8752ef60090345079eb20743ca64924f"
          }
        },
        "abda37887ea54aa8834832f4f24f0567": {
          "model_module": "@jupyter-widgets/output",
          "model_name": "OutputModel",
          "state": {
            "_view_name": "OutputView",
            "msg_id": "",
            "_dom_classes": [],
            "_model_name": "OutputModel",
            "outputs": [
              {
                "output_type": "display_data",
                "metadata": {
                  "tags": [],
                  "needs_background": "light"
                },
                "image/png": "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\n",
                "text/plain": "<Figure size 432x288 with 1 Axes>"
              }
            ],
            "_view_module": "@jupyter-widgets/output",
            "_model_module_version": "1.0.0",
            "_view_count": null,
            "_view_module_version": "1.0.0",
            "layout": "IPY_MODEL_7a26daeb7c6242d4929ccfceaf38b359",
            "_model_module": "@jupyter-widgets/output"
          }
        },
        "2def5f776d694d5f9bb5a799821d8c4d": {
          "model_module": "@jupyter-widgets/controls",
          "model_name": "SliderStyleModel",
          "state": {
            "_view_name": "StyleView",
            "handle_color": null,
            "_model_name": "SliderStyleModel",
            "description_width": "",
            "_view_module": "@jupyter-widgets/base",
            "_model_module_version": "1.5.0",
            "_view_count": null,
            "_view_module_version": "1.2.0",
            "_model_module": "@jupyter-widgets/controls"
          }
        },
        "4492f81c0a75477dbed7593c15c45a06": {
          "model_module": "@jupyter-widgets/base",
          "model_name": "LayoutModel",
          "state": {
            "_view_name": "LayoutView",
            "grid_template_rows": null,
            "right": null,
            "justify_content": null,
            "_view_module": "@jupyter-widgets/base",
            "overflow": null,
            "_model_module_version": "1.2.0",
            "_view_count": null,
            "flex_flow": null,
            "width": null,
            "min_width": null,
            "border": null,
            "align_items": null,
            "bottom": null,
            "_model_module": "@jupyter-widgets/base",
            "top": null,
            "grid_column": null,
            "overflow_y": null,
            "overflow_x": null,
            "grid_auto_flow": null,
            "grid_area": null,
            "grid_template_columns": null,
            "flex": null,
            "_model_name": "LayoutModel",
            "justify_items": null,
            "grid_row": null,
            "max_height": null,
            "align_content": null,
            "visibility": null,
            "align_self": null,
            "height": null,
            "min_height": null,
            "padding": null,
            "grid_auto_rows": null,
            "grid_gap": null,
            "max_width": null,
            "order": null,
            "_view_module_version": "1.2.0",
            "grid_template_areas": null,
            "object_position": null,
            "object_fit": null,
            "grid_auto_columns": null,
            "margin": null,
            "display": null,
            "left": null
          }
        },
        "3e895069d5a9466ebae54bd391dab209": {
          "model_module": "@jupyter-widgets/controls",
          "model_name": "SliderStyleModel",
          "state": {
            "_view_name": "StyleView",
            "handle_color": null,
            "_model_name": "SliderStyleModel",
            "description_width": "",
            "_view_module": "@jupyter-widgets/base",
            "_model_module_version": "1.5.0",
            "_view_count": null,
            "_view_module_version": "1.2.0",
            "_model_module": "@jupyter-widgets/controls"
          }
        },
        "8752ef60090345079eb20743ca64924f": {
          "model_module": "@jupyter-widgets/base",
          "model_name": "LayoutModel",
          "state": {
            "_view_name": "LayoutView",
            "grid_template_rows": null,
            "right": null,
            "justify_content": null,
            "_view_module": "@jupyter-widgets/base",
            "overflow": null,
            "_model_module_version": "1.2.0",
            "_view_count": null,
            "flex_flow": null,
            "width": null,
            "min_width": null,
            "border": null,
            "align_items": null,
            "bottom": null,
            "_model_module": "@jupyter-widgets/base",
            "top": null,
            "grid_column": null,
            "overflow_y": null,
            "overflow_x": null,
            "grid_auto_flow": null,
            "grid_area": null,
            "grid_template_columns": null,
            "flex": null,
            "_model_name": "LayoutModel",
            "justify_items": null,
            "grid_row": null,
            "max_height": null,
            "align_content": null,
            "visibility": null,
            "align_self": null,
            "height": null,
            "min_height": null,
            "padding": null,
            "grid_auto_rows": null,
            "grid_gap": null,
            "max_width": null,
            "order": null,
            "_view_module_version": "1.2.0",
            "grid_template_areas": null,
            "object_position": null,
            "object_fit": null,
            "grid_auto_columns": null,
            "margin": null,
            "display": null,
            "left": null
          }
        },
        "7a26daeb7c6242d4929ccfceaf38b359": {
          "model_module": "@jupyter-widgets/base",
          "model_name": "LayoutModel",
          "state": {
            "_view_name": "LayoutView",
            "grid_template_rows": null,
            "right": null,
            "justify_content": null,
            "_view_module": "@jupyter-widgets/base",
            "overflow": null,
            "_model_module_version": "1.2.0",
            "_view_count": null,
            "flex_flow": null,
            "width": null,
            "min_width": null,
            "border": null,
            "align_items": null,
            "bottom": null,
            "_model_module": "@jupyter-widgets/base",
            "top": null,
            "grid_column": null,
            "overflow_y": null,
            "overflow_x": null,
            "grid_auto_flow": null,
            "grid_area": null,
            "grid_template_columns": null,
            "flex": null,
            "_model_name": "LayoutModel",
            "justify_items": null,
            "grid_row": null,
            "max_height": null,
            "align_content": null,
            "visibility": null,
            "align_self": null,
            "height": null,
            "min_height": null,
            "padding": null,
            "grid_auto_rows": null,
            "grid_gap": null,
            "max_width": null,
            "order": null,
            "_view_module_version": "1.2.0",
            "grid_template_areas": null,
            "object_position": null,
            "object_fit": null,
            "grid_auto_columns": null,
            "margin": null,
            "display": null,
            "left": null
          }
        }
      }
    }
  },
  "cells": [
    {
      "cell_type": "markdown",
      "metadata": {
        "id": "view-in-github",
        "colab_type": "text"
      },
      "source": [
        "<a href=\"https://colab.research.google.com/github/sthagstotz/colab_support/blob/master/P_mg_cross_correlation.ipynb\" target=\"_parent\"><img src=\"https://colab.research.google.com/assets/colab-badge.svg\" alt=\"Open In Colab\"/></a>"
      ]
    },
    {
      "cell_type": "code",
      "metadata": {
        "id": "48nms1wRPBVT",
        "colab_type": "code",
        "colab": {}
      },
      "source": [
        "from ipywidgets import interact, interactive, fixed, interact_manual\n",
        "import ipywidgets as widgets\n",
        "\n",
        "import requests\n",
        "\n",
        "import numpy as np\n",
        "import pylab as plt\n"
      ],
      "execution_count": 0,
      "outputs": []
    },
    {
      "cell_type": "markdown",
      "metadata": {
        "id": "JeV2-bxhQNdA",
        "colab_type": "text"
      },
      "source": [
        "Calculate the scale-dependent correlation coefficient between matter and galaxy power spectra\n",
        "\n",
        "$$ r(k)= \\frac{P_{mg}}{\\sqrt{P_{gg} P_{mm}}}$$\n",
        "\n",
        "where we assume that the galaxy power spectrum can be written as\n",
        "\n",
        "$$ P_{gg} = b_a^2 P_{mm} + P_\\mathrm{shot} $$\n",
        "\n",
        "with a constant shot noise term. The following interactive plots calculate the correlation coefficient $r$ for chosen values of the (large-scale) bias $b_a$ and the shot noise."
      ]
    },
    {
      "cell_type": "code",
      "metadata": {
        "id": "2jL5V9qU6yef",
        "colab_type": "code",
        "colab": {
          "base_uri": "https://localhost:8080/",
          "height": 35
        },
        "outputId": "e7c0d44c-a51f-4243-ed05-853ce5c590fd"
      },
      "source": [
        "# first, download power spectrum data\n",
        "url = 'https://raw.githubusercontent.com/sthagstotz/colab_support/master/boss_matterpower.dat'\n",
        "r = requests.get(url, allow_redirects=True)\n",
        "open('boss_matterpower.dat', 'wb').write(r.content)"
      ],
      "execution_count": 2,
      "outputs": [
        {
          "output_type": "execute_result",
          "data": {
            "text/plain": [
              "15718"
            ]
          },
          "metadata": {
            "tags": []
          },
          "execution_count": 2
        }
      ]
    },
    {
      "cell_type": "code",
      "metadata": {
        "id": "KINUU2zUPJmJ",
        "colab_type": "code",
        "outputId": "90e71ef8-6889-43a6-ec7b-11c8cb3ccceb",
        "colab": {
          "base_uri": "https://localhost:8080/",
          "height": 351,
          "referenced_widgets": [
            "c908a94ad151433e81ad30b552efd92d",
            "f5f746cb5d8f4235837c53dfe270ec58",
            "3192791af2454c8b9a327565a54646f1",
            "4b24e52296b04704974181f83d94e619",
            "3385c4dbe1a14929b5e7b9851a0c0f70",
            "8a1ede9bc939470e86bb671c7ac36bb9",
            "2d3e27ccbb9b4e0b90cef72d15b5e4a1",
            "aee3e6c31d8b4b6d86352bf0ffb6749e",
            "bce85664003f4388b09702cbccab57db",
            "f468e17f6dfb45fc948298c3b043cc5f"
          ]
        }
      },
      "source": [
        "# Interactive plot showing the correlation coefficient\n",
        "\n",
        "shotnoise = 3500.\n",
        "bias = 2.\n",
        "\n",
        "data = np.loadtxt('boss_matterpower.dat')\n",
        "karray = data[:,0]\n",
        "pk = data[:,1]\n",
        "\n",
        "@interact\n",
        "def set_shot_scale(\n",
        "    a_bias=widgets.FloatSlider(min=0.,max=5.,step=0.1,value=2.,description='bias'),\n",
        "    shotnoise=widgets.IntSlider(min=100.,max=10000.,step=100,value=3500.,description='shot noise')\n",
        "    ):\n",
        "\n",
        "    #fiducial values: shotnoise = 3500, bias = 2\n",
        "    P_mm = pk\n",
        "    #fiducial values\n",
        "    a_bias_fid, P_shot_fid = 2., 3500.\n",
        "    P_gg = (a_bias_fid)**2 * pk + P_shot_fid\n",
        "    r_fid = a_bias_fid * pk / np.sqrt(P_mm * P_gg)\n",
        "    plt.semilogx(karray, r_fid, 'C0', alpha=0.5)\n",
        "\n",
        "    P_mm = pk\n",
        "    P_gg = a_bias**2 * pk + shotnoise\n",
        "    r = a_bias * pk / np.sqrt(P_mm * P_gg)\n",
        "    plt.semilogx(karray, r, 'C0')\n",
        "\n",
        "    plt.xlim(1e-2)\n",
        "    plt.xlabel('$k$ [Mpc/h]')\n",
        "    plt.ylabel('correlation coefficient $r$')"
      ],
      "execution_count": 9,
      "outputs": [
        {
          "output_type": "display_data",
          "data": {
            "application/vnd.jupyter.widget-view+json": {
              "model_id": "c908a94ad151433e81ad30b552efd92d",
              "version_minor": 0,
              "version_major": 2
            },
            "text/plain": [
              "interactive(children=(FloatSlider(value=2.0, description='bias', max=5.0), IntSlider(value=3500, description='…"
            ]
          },
          "metadata": {
            "tags": []
          }
        }
      ]
    },
    {
      "cell_type": "markdown",
      "metadata": {
        "id": "zxWrfI8lPNqB",
        "colab_type": "text"
      },
      "source": [
        "Check for the additional effect of RSD on the correlation coefficient, using\n",
        "$$ P_{gg}^{\\rm RSD} = b_a^2 \\left(1 + \\frac{2}{3} \\beta + \\frac{1}{5} \\beta^2 \\right) P_{mm} + P_{\\rm shot}$$\n",
        "with\n",
        "$$ \\beta = \\frac{\\Omega_m(z)^{0.545}}{b_a}$$"
      ]
    },
    {
      "cell_type": "code",
      "metadata": {
        "id": "yPwSiBvVSqNh",
        "colab_type": "code",
        "outputId": "119149e1-b8b5-430a-ff15-a35617b0ee8e",
        "colab": {
          "base_uri": "https://localhost:8080/",
          "height": 352,
          "referenced_widgets": [
            "fb5c532c0ebc43fb8a74ced6d15f43c6",
            "9fa14e2c20d047e2a4ebdfbeb671855a",
            "6197b47438f74c11bf5ddd83fa6aa421",
            "61ffb8e5b1f24e1c906fcf89d5722eab",
            "abda37887ea54aa8834832f4f24f0567",
            "2def5f776d694d5f9bb5a799821d8c4d",
            "4492f81c0a75477dbed7593c15c45a06",
            "3e895069d5a9466ebae54bd391dab209",
            "8752ef60090345079eb20743ca64924f",
            "7a26daeb7c6242d4929ccfceaf38b359"
          ]
        }
      },
      "source": [
        "@interact\n",
        "def set_shot_scale(\n",
        "    a_bias=widgets.FloatSlider(min=0.,max=5.,step=0.1,value=2.,description='bias'),\n",
        "    shotnoise=widgets.IntSlider(min=100.,max=10000.,step=100,value=3500.,description='shot noise')\n",
        "    ):\n",
        "    #fiducial values: shotnoise = 3500, bias = 2\n",
        "    P_mm = pk\n",
        "    #fiducial values\n",
        "    a_bias_fid, P_shot_fid = 2., 3500.\n",
        "    P_gg = (a_bias_fid)**2 * pk + P_shot_fid\n",
        "    r_fid = a_bias_fid * pk / np.sqrt(P_mm * P_gg)\n",
        "    plt.semilogx(karray, r_fid, 'C0', alpha=0.5)\n",
        "\n",
        "    P_mm = pk\n",
        "    P_gg = a_bias**2 * pk + shotnoise\n",
        "    r = a_bias * pk / np.sqrt(P_mm * P_gg)\n",
        "    plt.semilogx(karray, r, 'C0', label='shot noise contribution')\n",
        "\n",
        "    #including RSD\n",
        "    beta = 0.78 / a_bias_fid #Omega_m(z=0.57)**0.545 ~ 0.78 for Planck\n",
        "    rsd = (1. + 2./3 * beta + 1./5 * beta**2)\n",
        "    P_rsd = a_bias_fid**2 * rsd * pk + P_shot_fid\n",
        "    r_rsd_fid = a_bias_fid * pk / np.sqrt(P_mm * P_rsd)\n",
        "    plt.semilogx(karray, r_rsd_fid, 'C1', alpha=0.5)\n",
        "\n",
        "    beta = 0.78 / a_bias\n",
        "    rsd = (1. + 2./3 * beta + 1./5 * beta**2)\n",
        "    P_rsd = a_bias**2 * rsd * pk + shotnoise\n",
        "    r_rsd = a_bias * pk / np.sqrt(P_mm * P_rsd)\n",
        "    plt.semilogx(karray, r_rsd, 'C1', label='including RSD')\n",
        "\n",
        "    plt.xlim(1e-2)\n",
        "    plt.xlabel('$k$ [Mpc/h]')\n",
        "    plt.ylabel('correlation coefficient $r$')\n",
        "    plt.legend(frameon=False)"
      ],
      "execution_count": 10,
      "outputs": [
        {
          "output_type": "display_data",
          "data": {
            "application/vnd.jupyter.widget-view+json": {
              "model_id": "fb5c532c0ebc43fb8a74ced6d15f43c6",
              "version_minor": 0,
              "version_major": 2
            },
            "text/plain": [
              "interactive(children=(FloatSlider(value=2.0, description='bias', max=5.0), IntSlider(value=3500, description='…"
            ]
          },
          "metadata": {
            "tags": []
          }
        }
      ]
    },
    {
      "cell_type": "code",
      "metadata": {
        "id": "V6mCpf21W5Y_",
        "colab_type": "code",
        "colab": {}
      },
      "source": [
        ""
      ],
      "execution_count": 0,
      "outputs": []
    }
  ]
}